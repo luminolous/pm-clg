{
  "nbformat": 4,
  "nbformat_minor": 0,
  "metadata": {
    "colab": {
      "provenance": []
    },
    "kernelspec": {
      "name": "python3",
      "display_name": "Python 3"
    },
    "language_info": {
      "name": "python"
    }
  },
  "cells": [
    {
      "cell_type": "markdown",
      "source": [
        "### **Dengan kNN dari Scikit Learn**"
      ],
      "metadata": {
        "id": "YDfOOt-enkcV"
      }
    },
    {
      "cell_type": "markdown",
      "source": [
        "**Import Library**\n",
        "\n",
        "Pertama-tama kita perlu melakukan import untuk library yang diperlukan nanti seperti pandas untuk mengolah csv, numpy untuk perhitungan matematis pada scratch, scikit-learn untuk mengambil modul train test split, kNN dan standard scaler."
      ],
      "metadata": {
        "id": "k-IL_1v8K5sY"
      }
    },
    {
      "cell_type": "code",
      "source": [
        "import pandas as pd\n",
        "import numpy as np\n",
        "import matplotlib.pyplot as plt\n",
        "from sklearn.neighbors import KNeighborsClassifier\n",
        "from sklearn.model_selection import train_test_split, StratifiedKFold\n",
        "from sklearn.preprocessing import StandardScaler, LabelEncoder\n",
        "from sklearn.metrics import accuracy_score\n",
        "\n",
        "from sklearn.metrics import (confusion_matrix,\n",
        "                             ConfusionMatrixDisplay,\n",
        "                             classification_report,\n",
        "                             accuracy_score)"
      ],
      "metadata": {
        "id": "82v9ukcz1X2_"
      },
      "execution_count": 3,
      "outputs": []
    },
    {
      "cell_type": "markdown",
      "source": [
        "**Data Setup**\n",
        "\n",
        "Selanjutnya kita perlu menghasilkan sebuah dataframe dari dataset ke variabel iris_dt."
      ],
      "metadata": {
        "id": "KdrVmFGpLSEk"
      }
    },
    {
      "cell_type": "code",
      "execution_count": 4,
      "metadata": {
        "colab": {
          "base_uri": "https://localhost:8080/",
          "height": 206
        },
        "id": "hoBsc-3d1DFT",
        "outputId": "e3cdaef0-60a4-43bf-be86-d1bb4659bf2c"
      },
      "outputs": [
        {
          "output_type": "execute_result",
          "data": {
            "text/plain": [
              "   Id  SepalLengthCm  SepalWidthCm  PetalLengthCm  PetalWidthCm      Species\n",
              "0   1            5.1           3.5            1.4           0.2  Iris-setosa\n",
              "1   2            4.9           3.0            1.4           0.2  Iris-setosa\n",
              "2   3            4.7           3.2            1.3           0.2  Iris-setosa\n",
              "3   4            4.6           3.1            1.5           0.2  Iris-setosa\n",
              "4   5            5.0           3.6            1.4           0.2  Iris-setosa"
            ],
            "text/html": [
              "\n",
              "  <div id=\"df-990e08c4-8540-40d8-a7b5-6e4bdd4c76c8\" class=\"colab-df-container\">\n",
              "    <div>\n",
              "<style scoped>\n",
              "    .dataframe tbody tr th:only-of-type {\n",
              "        vertical-align: middle;\n",
              "    }\n",
              "\n",
              "    .dataframe tbody tr th {\n",
              "        vertical-align: top;\n",
              "    }\n",
              "\n",
              "    .dataframe thead th {\n",
              "        text-align: right;\n",
              "    }\n",
              "</style>\n",
              "<table border=\"1\" class=\"dataframe\">\n",
              "  <thead>\n",
              "    <tr style=\"text-align: right;\">\n",
              "      <th></th>\n",
              "      <th>Id</th>\n",
              "      <th>SepalLengthCm</th>\n",
              "      <th>SepalWidthCm</th>\n",
              "      <th>PetalLengthCm</th>\n",
              "      <th>PetalWidthCm</th>\n",
              "      <th>Species</th>\n",
              "    </tr>\n",
              "  </thead>\n",
              "  <tbody>\n",
              "    <tr>\n",
              "      <th>0</th>\n",
              "      <td>1</td>\n",
              "      <td>5.1</td>\n",
              "      <td>3.5</td>\n",
              "      <td>1.4</td>\n",
              "      <td>0.2</td>\n",
              "      <td>Iris-setosa</td>\n",
              "    </tr>\n",
              "    <tr>\n",
              "      <th>1</th>\n",
              "      <td>2</td>\n",
              "      <td>4.9</td>\n",
              "      <td>3.0</td>\n",
              "      <td>1.4</td>\n",
              "      <td>0.2</td>\n",
              "      <td>Iris-setosa</td>\n",
              "    </tr>\n",
              "    <tr>\n",
              "      <th>2</th>\n",
              "      <td>3</td>\n",
              "      <td>4.7</td>\n",
              "      <td>3.2</td>\n",
              "      <td>1.3</td>\n",
              "      <td>0.2</td>\n",
              "      <td>Iris-setosa</td>\n",
              "    </tr>\n",
              "    <tr>\n",
              "      <th>3</th>\n",
              "      <td>4</td>\n",
              "      <td>4.6</td>\n",
              "      <td>3.1</td>\n",
              "      <td>1.5</td>\n",
              "      <td>0.2</td>\n",
              "      <td>Iris-setosa</td>\n",
              "    </tr>\n",
              "    <tr>\n",
              "      <th>4</th>\n",
              "      <td>5</td>\n",
              "      <td>5.0</td>\n",
              "      <td>3.6</td>\n",
              "      <td>1.4</td>\n",
              "      <td>0.2</td>\n",
              "      <td>Iris-setosa</td>\n",
              "    </tr>\n",
              "  </tbody>\n",
              "</table>\n",
              "</div>\n",
              "    <div class=\"colab-df-buttons\">\n",
              "\n",
              "  <div class=\"colab-df-container\">\n",
              "    <button class=\"colab-df-convert\" onclick=\"convertToInteractive('df-990e08c4-8540-40d8-a7b5-6e4bdd4c76c8')\"\n",
              "            title=\"Convert this dataframe to an interactive table.\"\n",
              "            style=\"display:none;\">\n",
              "\n",
              "  <svg xmlns=\"http://www.w3.org/2000/svg\" height=\"24px\" viewBox=\"0 -960 960 960\">\n",
              "    <path d=\"M120-120v-720h720v720H120Zm60-500h600v-160H180v160Zm220 220h160v-160H400v160Zm0 220h160v-160H400v160ZM180-400h160v-160H180v160Zm440 0h160v-160H620v160ZM180-180h160v-160H180v160Zm440 0h160v-160H620v160Z\"/>\n",
              "  </svg>\n",
              "    </button>\n",
              "\n",
              "  <style>\n",
              "    .colab-df-container {\n",
              "      display:flex;\n",
              "      gap: 12px;\n",
              "    }\n",
              "\n",
              "    .colab-df-convert {\n",
              "      background-color: #E8F0FE;\n",
              "      border: none;\n",
              "      border-radius: 50%;\n",
              "      cursor: pointer;\n",
              "      display: none;\n",
              "      fill: #1967D2;\n",
              "      height: 32px;\n",
              "      padding: 0 0 0 0;\n",
              "      width: 32px;\n",
              "    }\n",
              "\n",
              "    .colab-df-convert:hover {\n",
              "      background-color: #E2EBFA;\n",
              "      box-shadow: 0px 1px 2px rgba(60, 64, 67, 0.3), 0px 1px 3px 1px rgba(60, 64, 67, 0.15);\n",
              "      fill: #174EA6;\n",
              "    }\n",
              "\n",
              "    .colab-df-buttons div {\n",
              "      margin-bottom: 4px;\n",
              "    }\n",
              "\n",
              "    [theme=dark] .colab-df-convert {\n",
              "      background-color: #3B4455;\n",
              "      fill: #D2E3FC;\n",
              "    }\n",
              "\n",
              "    [theme=dark] .colab-df-convert:hover {\n",
              "      background-color: #434B5C;\n",
              "      box-shadow: 0px 1px 3px 1px rgba(0, 0, 0, 0.15);\n",
              "      filter: drop-shadow(0px 1px 2px rgba(0, 0, 0, 0.3));\n",
              "      fill: #FFFFFF;\n",
              "    }\n",
              "  </style>\n",
              "\n",
              "    <script>\n",
              "      const buttonEl =\n",
              "        document.querySelector('#df-990e08c4-8540-40d8-a7b5-6e4bdd4c76c8 button.colab-df-convert');\n",
              "      buttonEl.style.display =\n",
              "        google.colab.kernel.accessAllowed ? 'block' : 'none';\n",
              "\n",
              "      async function convertToInteractive(key) {\n",
              "        const element = document.querySelector('#df-990e08c4-8540-40d8-a7b5-6e4bdd4c76c8');\n",
              "        const dataTable =\n",
              "          await google.colab.kernel.invokeFunction('convertToInteractive',\n",
              "                                                    [key], {});\n",
              "        if (!dataTable) return;\n",
              "\n",
              "        const docLinkHtml = 'Like what you see? Visit the ' +\n",
              "          '<a target=\"_blank\" href=https://colab.research.google.com/notebooks/data_table.ipynb>data table notebook</a>'\n",
              "          + ' to learn more about interactive tables.';\n",
              "        element.innerHTML = '';\n",
              "        dataTable['output_type'] = 'display_data';\n",
              "        await google.colab.output.renderOutput(dataTable, element);\n",
              "        const docLink = document.createElement('div');\n",
              "        docLink.innerHTML = docLinkHtml;\n",
              "        element.appendChild(docLink);\n",
              "      }\n",
              "    </script>\n",
              "  </div>\n",
              "\n",
              "\n",
              "    <div id=\"df-35f50732-4480-465d-a01f-4d89953ab898\">\n",
              "      <button class=\"colab-df-quickchart\" onclick=\"quickchart('df-35f50732-4480-465d-a01f-4d89953ab898')\"\n",
              "                title=\"Suggest charts\"\n",
              "                style=\"display:none;\">\n",
              "\n",
              "<svg xmlns=\"http://www.w3.org/2000/svg\" height=\"24px\"viewBox=\"0 0 24 24\"\n",
              "     width=\"24px\">\n",
              "    <g>\n",
              "        <path d=\"M19 3H5c-1.1 0-2 .9-2 2v14c0 1.1.9 2 2 2h14c1.1 0 2-.9 2-2V5c0-1.1-.9-2-2-2zM9 17H7v-7h2v7zm4 0h-2V7h2v10zm4 0h-2v-4h2v4z\"/>\n",
              "    </g>\n",
              "</svg>\n",
              "      </button>\n",
              "\n",
              "<style>\n",
              "  .colab-df-quickchart {\n",
              "      --bg-color: #E8F0FE;\n",
              "      --fill-color: #1967D2;\n",
              "      --hover-bg-color: #E2EBFA;\n",
              "      --hover-fill-color: #174EA6;\n",
              "      --disabled-fill-color: #AAA;\n",
              "      --disabled-bg-color: #DDD;\n",
              "  }\n",
              "\n",
              "  [theme=dark] .colab-df-quickchart {\n",
              "      --bg-color: #3B4455;\n",
              "      --fill-color: #D2E3FC;\n",
              "      --hover-bg-color: #434B5C;\n",
              "      --hover-fill-color: #FFFFFF;\n",
              "      --disabled-bg-color: #3B4455;\n",
              "      --disabled-fill-color: #666;\n",
              "  }\n",
              "\n",
              "  .colab-df-quickchart {\n",
              "    background-color: var(--bg-color);\n",
              "    border: none;\n",
              "    border-radius: 50%;\n",
              "    cursor: pointer;\n",
              "    display: none;\n",
              "    fill: var(--fill-color);\n",
              "    height: 32px;\n",
              "    padding: 0;\n",
              "    width: 32px;\n",
              "  }\n",
              "\n",
              "  .colab-df-quickchart:hover {\n",
              "    background-color: var(--hover-bg-color);\n",
              "    box-shadow: 0 1px 2px rgba(60, 64, 67, 0.3), 0 1px 3px 1px rgba(60, 64, 67, 0.15);\n",
              "    fill: var(--button-hover-fill-color);\n",
              "  }\n",
              "\n",
              "  .colab-df-quickchart-complete:disabled,\n",
              "  .colab-df-quickchart-complete:disabled:hover {\n",
              "    background-color: var(--disabled-bg-color);\n",
              "    fill: var(--disabled-fill-color);\n",
              "    box-shadow: none;\n",
              "  }\n",
              "\n",
              "  .colab-df-spinner {\n",
              "    border: 2px solid var(--fill-color);\n",
              "    border-color: transparent;\n",
              "    border-bottom-color: var(--fill-color);\n",
              "    animation:\n",
              "      spin 1s steps(1) infinite;\n",
              "  }\n",
              "\n",
              "  @keyframes spin {\n",
              "    0% {\n",
              "      border-color: transparent;\n",
              "      border-bottom-color: var(--fill-color);\n",
              "      border-left-color: var(--fill-color);\n",
              "    }\n",
              "    20% {\n",
              "      border-color: transparent;\n",
              "      border-left-color: var(--fill-color);\n",
              "      border-top-color: var(--fill-color);\n",
              "    }\n",
              "    30% {\n",
              "      border-color: transparent;\n",
              "      border-left-color: var(--fill-color);\n",
              "      border-top-color: var(--fill-color);\n",
              "      border-right-color: var(--fill-color);\n",
              "    }\n",
              "    40% {\n",
              "      border-color: transparent;\n",
              "      border-right-color: var(--fill-color);\n",
              "      border-top-color: var(--fill-color);\n",
              "    }\n",
              "    60% {\n",
              "      border-color: transparent;\n",
              "      border-right-color: var(--fill-color);\n",
              "    }\n",
              "    80% {\n",
              "      border-color: transparent;\n",
              "      border-right-color: var(--fill-color);\n",
              "      border-bottom-color: var(--fill-color);\n",
              "    }\n",
              "    90% {\n",
              "      border-color: transparent;\n",
              "      border-bottom-color: var(--fill-color);\n",
              "    }\n",
              "  }\n",
              "</style>\n",
              "\n",
              "      <script>\n",
              "        async function quickchart(key) {\n",
              "          const quickchartButtonEl =\n",
              "            document.querySelector('#' + key + ' button');\n",
              "          quickchartButtonEl.disabled = true;  // To prevent multiple clicks.\n",
              "          quickchartButtonEl.classList.add('colab-df-spinner');\n",
              "          try {\n",
              "            const charts = await google.colab.kernel.invokeFunction(\n",
              "                'suggestCharts', [key], {});\n",
              "          } catch (error) {\n",
              "            console.error('Error during call to suggestCharts:', error);\n",
              "          }\n",
              "          quickchartButtonEl.classList.remove('colab-df-spinner');\n",
              "          quickchartButtonEl.classList.add('colab-df-quickchart-complete');\n",
              "        }\n",
              "        (() => {\n",
              "          let quickchartButtonEl =\n",
              "            document.querySelector('#df-35f50732-4480-465d-a01f-4d89953ab898 button');\n",
              "          quickchartButtonEl.style.display =\n",
              "            google.colab.kernel.accessAllowed ? 'block' : 'none';\n",
              "        })();\n",
              "      </script>\n",
              "    </div>\n",
              "\n",
              "    </div>\n",
              "  </div>\n"
            ],
            "application/vnd.google.colaboratory.intrinsic+json": {
              "type": "dataframe",
              "variable_name": "iris_dt",
              "summary": "{\n  \"name\": \"iris_dt\",\n  \"rows\": 150,\n  \"fields\": [\n    {\n      \"column\": \"Id\",\n      \"properties\": {\n        \"dtype\": \"number\",\n        \"std\": 43,\n        \"min\": 1,\n        \"max\": 150,\n        \"num_unique_values\": 150,\n        \"samples\": [\n          74,\n          19,\n          119\n        ],\n        \"semantic_type\": \"\",\n        \"description\": \"\"\n      }\n    },\n    {\n      \"column\": \"SepalLengthCm\",\n      \"properties\": {\n        \"dtype\": \"number\",\n        \"std\": 0.8280661279778629,\n        \"min\": 4.3,\n        \"max\": 7.9,\n        \"num_unique_values\": 35,\n        \"samples\": [\n          6.2,\n          4.5,\n          5.6\n        ],\n        \"semantic_type\": \"\",\n        \"description\": \"\"\n      }\n    },\n    {\n      \"column\": \"SepalWidthCm\",\n      \"properties\": {\n        \"dtype\": \"number\",\n        \"std\": 0.4335943113621737,\n        \"min\": 2.0,\n        \"max\": 4.4,\n        \"num_unique_values\": 23,\n        \"samples\": [\n          2.3,\n          4.0,\n          3.5\n        ],\n        \"semantic_type\": \"\",\n        \"description\": \"\"\n      }\n    },\n    {\n      \"column\": \"PetalLengthCm\",\n      \"properties\": {\n        \"dtype\": \"number\",\n        \"std\": 1.7644204199522617,\n        \"min\": 1.0,\n        \"max\": 6.9,\n        \"num_unique_values\": 43,\n        \"samples\": [\n          6.7,\n          3.8,\n          3.7\n        ],\n        \"semantic_type\": \"\",\n        \"description\": \"\"\n      }\n    },\n    {\n      \"column\": \"PetalWidthCm\",\n      \"properties\": {\n        \"dtype\": \"number\",\n        \"std\": 0.7631607417008414,\n        \"min\": 0.1,\n        \"max\": 2.5,\n        \"num_unique_values\": 22,\n        \"samples\": [\n          0.2,\n          1.2,\n          1.3\n        ],\n        \"semantic_type\": \"\",\n        \"description\": \"\"\n      }\n    },\n    {\n      \"column\": \"Species\",\n      \"properties\": {\n        \"dtype\": \"category\",\n        \"num_unique_values\": 3,\n        \"samples\": [\n          \"Iris-setosa\",\n          \"Iris-versicolor\",\n          \"Iris-virginica\"\n        ],\n        \"semantic_type\": \"\",\n        \"description\": \"\"\n      }\n    }\n  ]\n}"
            }
          },
          "metadata": {},
          "execution_count": 4
        }
      ],
      "source": [
        "iris_dt = pd.read_csv('/content/Iris.csv')\n",
        "iris_dt.head()"
      ]
    },
    {
      "cell_type": "markdown",
      "source": [
        "Disini saya melakukan data exploratory singkat untuk melihat berapa banyak baris pada data."
      ],
      "metadata": {
        "id": "ptmqpBcjLzQO"
      }
    },
    {
      "cell_type": "code",
      "source": [
        "iris_dt.info()"
      ],
      "metadata": {
        "colab": {
          "base_uri": "https://localhost:8080/"
        },
        "id": "zs77e71p1XIi",
        "outputId": "da4eeaa1-30ad-48f2-aece-73501efbc246"
      },
      "execution_count": 5,
      "outputs": [
        {
          "output_type": "stream",
          "name": "stdout",
          "text": [
            "<class 'pandas.core.frame.DataFrame'>\n",
            "RangeIndex: 150 entries, 0 to 149\n",
            "Data columns (total 6 columns):\n",
            " #   Column         Non-Null Count  Dtype  \n",
            "---  ------         --------------  -----  \n",
            " 0   Id             150 non-null    int64  \n",
            " 1   SepalLengthCm  150 non-null    float64\n",
            " 2   SepalWidthCm   150 non-null    float64\n",
            " 3   PetalLengthCm  150 non-null    float64\n",
            " 4   PetalWidthCm   150 non-null    float64\n",
            " 5   Species        150 non-null    object \n",
            "dtypes: float64(4), int64(1), object(1)\n",
            "memory usage: 7.2+ KB\n"
          ]
        }
      ]
    },
    {
      "cell_type": "markdown",
      "source": [
        "**Target Encoding**\n",
        "\n",
        "Untuk data target nya saya ingin di encoding supaya di hasil prediksi nya nanti rapi kelihatannya dan mudah untuk dibandingkan hasil prediksi antara k-values `5` dengan `7`. Untuk encoding saya disini menggunakan tools bawaan scikit-learn yaitu label encoder dimana tools ini akan mengganti kelas label nya dengan angka (cth: 1, 2, 3, ....) sebanyak ada berapa kelas di labelnya.\n",
        "\n",
        "Dan di dataset iris ini karena ada 3 kelas di label nya, maka hasil encode nya akan seperti ini:\n",
        "\n",
        "| Kelas Asli        | Kelas encoded |\n",
        "|-------------------|---------------|\n",
        "| Iris - setosa     |       0       |\n",
        "| Iris - versicolor |       1       |\n",
        "| Iris - virginica  |       2       |\n"
      ],
      "metadata": {
        "id": "iiiDC60gU8w1"
      }
    },
    {
      "cell_type": "code",
      "source": [
        "unique_classes = iris_dt[\"Species\"].nunique()\n",
        "print(f\"Jumlah unique class di target: {unique_classes}\")"
      ],
      "metadata": {
        "colab": {
          "base_uri": "https://localhost:8080/"
        },
        "id": "7Y_XzokzIKne",
        "outputId": "9240613f-5185-44b8-bfd7-3797e487c411"
      },
      "execution_count": 6,
      "outputs": [
        {
          "output_type": "stream",
          "name": "stdout",
          "text": [
            "Jumlah unique class di target: 3\n"
          ]
        }
      ]
    },
    {
      "cell_type": "code",
      "source": [
        "le = LabelEncoder()\n",
        "iris_dt[\"Species_encoded\"] = le.fit_transform(iris_dt[\"Species\"])\n",
        "print(iris_dt[[\"Species\", \"Species_encoded\"]])"
      ],
      "metadata": {
        "colab": {
          "base_uri": "https://localhost:8080/"
        },
        "id": "mXY72LvuIyM_",
        "outputId": "c40276d6-236e-4221-87e5-61d485d54efd"
      },
      "execution_count": 7,
      "outputs": [
        {
          "output_type": "stream",
          "name": "stdout",
          "text": [
            "            Species  Species_encoded\n",
            "0       Iris-setosa                0\n",
            "1       Iris-setosa                0\n",
            "2       Iris-setosa                0\n",
            "3       Iris-setosa                0\n",
            "4       Iris-setosa                0\n",
            "..              ...              ...\n",
            "145  Iris-virginica                2\n",
            "146  Iris-virginica                2\n",
            "147  Iris-virginica                2\n",
            "148  Iris-virginica                2\n",
            "149  Iris-virginica                2\n",
            "\n",
            "[150 rows x 2 columns]\n"
          ]
        }
      ]
    },
    {
      "cell_type": "code",
      "source": [
        "unique_classes = iris_dt[\"Species_encoded\"].nunique()\n",
        "print(f\"Jumlah unique class di target: {unique_classes}\")\n",
        "print(\"Mapping class -> angka:\", dict(zip(le.classes_, le.transform(le.classes_))))"
      ],
      "metadata": {
        "colab": {
          "base_uri": "https://localhost:8080/"
        },
        "id": "d7sLmG9BJKyZ",
        "outputId": "eb74431c-01f3-4264-d661-26b7a9bb7766"
      },
      "execution_count": 8,
      "outputs": [
        {
          "output_type": "stream",
          "name": "stdout",
          "text": [
            "Jumlah unique class di target: 3\n",
            "Mapping class -> angka: {'Iris-setosa': np.int64(0), 'Iris-versicolor': np.int64(1), 'Iris-virginica': np.int64(2)}\n"
          ]
        }
      ]
    },
    {
      "cell_type": "markdown",
      "source": [
        "**Data Split**\n",
        "\n",
        "Selanjutnya kita melakukan pembagian data menjadi 2 yaitu data train dan test dengan ukuran untuk data test nya disini saya memakai 20% dari dataset dengan seed dari random_state yaitu 42 (Sebenarnya bisa berapapun bebas asalkan selama memproses data menggunakan seed yang sama)."
      ],
      "metadata": {
        "id": "hhUzUBknL5Jz"
      }
    },
    {
      "cell_type": "code",
      "source": [
        "X_train, X_test, y_train, y_test = train_test_split(iris_dt.drop(['Id', 'Species', 'Species_encoded'], axis=1), iris_dt['Species_encoded'], test_size=0.2, random_state=42)"
      ],
      "metadata": {
        "id": "jRi56OEx2kow"
      },
      "execution_count": 9,
      "outputs": []
    },
    {
      "cell_type": "code",
      "source": [
        "print(f'X-train: {X_train.shape[0]}')\n",
        "print(f'y-train: {y_train.shape[0]}')\n",
        "print(f'X-test: {X_test.shape[0]}')\n",
        "print(f'y-test: {y_test.shape[0]}')"
      ],
      "metadata": {
        "colab": {
          "base_uri": "https://localhost:8080/"
        },
        "id": "Wct-nsDh2_nd",
        "outputId": "3037a7ba-dc23-456f-f0c3-7a0104129d15"
      },
      "execution_count": 10,
      "outputs": [
        {
          "output_type": "stream",
          "name": "stdout",
          "text": [
            "X-train: 120\n",
            "y-train: 120\n",
            "X-test: 30\n",
            "y-test: 30\n"
          ]
        }
      ]
    },
    {
      "cell_type": "code",
      "source": [
        "print(f'Unique class di y-train: {y_train.nunique()}')\n",
        "print(f'Unique class di y-test: {y_test.nunique()}')"
      ],
      "metadata": {
        "colab": {
          "base_uri": "https://localhost:8080/"
        },
        "id": "6HookQR6Jhx1",
        "outputId": "cf0be119-a951-43d2-c534-442f3da47528"
      },
      "execution_count": 11,
      "outputs": [
        {
          "output_type": "stream",
          "name": "stdout",
          "text": [
            "Unique class di y-train: 3\n",
            "Unique class di y-test: 3\n"
          ]
        }
      ]
    },
    {
      "cell_type": "markdown",
      "source": [
        "**Scaling Data**\n",
        "\n",
        "Selanjutnya, sebelum fitur data train dan test kita fit ke kNN, kita perlu melakukan scaling data terlebih dahulu. Ini dikarenakan jarak antara fitur di dataset tersebut cukup jauh sehingga kita perlu menyeimbangkannya supaya saat di hitung dengan euclidean distance nanti hasil nya tidak berat sebelah. Untuk saat ini saya menggunakan tools scaling data yaitu StandardScaler yang sudah ada di library scikit-learn."
      ],
      "metadata": {
        "id": "EVsIR38lOkaI"
      }
    },
    {
      "cell_type": "code",
      "source": [
        "scaler = StandardScaler()\n",
        "\n",
        "X_train_scaled = scaler.fit_transform(X_train)\n",
        "X_test_scaled = scaler.transform(X_test)"
      ],
      "metadata": {
        "id": "QpVRCi152ndk"
      },
      "execution_count": 12,
      "outputs": []
    },
    {
      "cell_type": "markdown",
      "source": [
        "Untuk hasil scaling nanti akan berubah dari yang sebelumnya dataframe menjadi array. Seperti berikut:\n",
        "\n",
        "**array([[-1.47393679,  1.22037928, -1.5639872 , -1.30948358],\n",
        "       [-0.13307079,  3.02001693, -1.27728011, -1.04292204],...**"
      ],
      "metadata": {
        "id": "zXGTirEwSnAN"
      }
    },
    {
      "cell_type": "code",
      "source": [
        "X_train_scaled"
      ],
      "metadata": {
        "colab": {
          "base_uri": "https://localhost:8080/"
        },
        "id": "2NqbA4pnSwVy",
        "outputId": "91bc8b55-b345-4cea-e75b-626d6c8a601c"
      },
      "execution_count": 13,
      "outputs": [
        {
          "output_type": "execute_result",
          "data": {
            "text/plain": [
              "array([[-1.47393679,  1.22037928, -1.5639872 , -1.30948358],\n",
              "       [-0.13307079,  3.02001693, -1.27728011, -1.04292204],\n",
              "       [ 1.08589829,  0.09560575,  0.38562104,  0.28988568],\n",
              "       [-1.23014297,  0.77046987, -1.21993869, -1.30948358],\n",
              "       [-1.7177306 ,  0.32056046, -1.39196294, -1.30948358],\n",
              "       [ 0.59831066, -1.25412249,  0.72966956,  0.95628954],\n",
              "       [ 0.72020757,  0.32056046,  0.44296246,  0.42316645],\n",
              "       [-0.74255534,  0.99542457, -1.27728011, -1.30948358],\n",
              "       [-0.98634915,  1.22037928, -1.33462153, -1.30948358],\n",
              "       [-0.74255534,  2.34515281, -1.27728011, -1.44276436],\n",
              "       [-0.01117388, -0.80421307,  0.78701097,  0.95628954],\n",
              "       [ 0.23261993,  0.77046987,  0.44296246,  0.55644722],\n",
              "       [ 1.08589829,  0.09560575,  0.5576453 ,  0.42316645],\n",
              "       [-0.49876152,  1.8952434 , -1.39196294, -1.04292204],\n",
              "       [-0.49876152,  1.44533399, -1.27728011, -1.30948358],\n",
              "       [-0.37686461, -1.47907719, -0.01576889, -0.24323741],\n",
              "       [ 0.59831066, -0.57925837,  0.78701097,  0.42316645],\n",
              "       [ 0.72020757,  0.09560575,  1.01637665,  0.82300877],\n",
              "       [ 0.96400139, -0.12934896,  0.38562104,  0.28988568],\n",
              "       [ 1.69538284,  1.22037928,  1.36042516,  1.75597417],\n",
              "       [-0.13307079, -0.35430366,  0.2709382 ,  0.15660491],\n",
              "       [ 2.18297047, -0.12934896,  1.64713226,  1.22285108],\n",
              "       [-0.2549677 , -0.12934896,  0.44296246,  0.42316645],\n",
              "       [-0.86445224,  0.99542457, -1.33462153, -1.30948358],\n",
              "       [ 2.30486738, -0.57925837,  1.70447368,  1.08957031],\n",
              "       [-0.01117388, -0.80421307,  0.21359679, -0.24323741],\n",
              "       [-0.74255534,  0.77046987, -1.33462153, -1.30948358],\n",
              "       [-0.98634915,  0.99542457, -1.39196294, -1.17620281],\n",
              "       [-0.86445224,  1.67028869, -1.04791443, -1.04292204],\n",
              "       [-0.98634915, -2.37889602, -0.13045173, -0.24323741],\n",
              "       [ 0.59831066, -0.80421307,  0.67232814,  0.82300877],\n",
              "       [-1.23014297,  0.77046987, -1.04791443, -1.30948358],\n",
              "       [-0.98634915, -0.12934896, -1.21993869, -1.30948358],\n",
              "       [-0.86445224,  0.54551516, -1.16259727, -0.90964127],\n",
              "       [-0.2549677 , -0.80421307,  0.2709382 ,  0.15660491],\n",
              "       [-0.86445224,  0.77046987, -1.27728011, -1.30948358],\n",
              "       [-0.13307079, -0.12934896,  0.2709382 ,  0.02332414],\n",
              "       [ 2.30486738,  1.67028869,  1.70447368,  1.35613185],\n",
              "       [-1.47393679,  0.32056046, -1.33462153, -1.30948358],\n",
              "       [ 0.47641375, -0.35430366,  0.32827962,  0.15660491],\n",
              "       [-0.13307079, -1.25412249,  0.72966956,  1.08957031],\n",
              "       [-0.37686461,  2.57010752, -1.33462153, -1.30948358],\n",
              "       [ 0.23261993, -0.12934896,  0.61498672,  0.82300877],\n",
              "       [-0.01117388, -0.80421307,  0.78701097,  0.95628954],\n",
              "       [ 0.23261993, -1.9289866 ,  0.15625537, -0.24323741],\n",
              "       [-0.49876152, -0.12934896,  0.44296246,  0.42316645],\n",
              "       [ 0.47641375,  0.77046987,  0.95903523,  1.48941263],\n",
              "       [-0.37686461, -1.7040319 ,  0.15625537,  0.15660491],\n",
              "       [-0.49876152,  1.8952434 , -1.16259727, -1.04292204],\n",
              "       [-0.98634915, -1.7040319 , -0.24513457, -0.24323741],\n",
              "       [ 0.72020757, -0.80421307,  0.90169381,  0.95628954],\n",
              "       [-0.98634915,  0.54551516, -1.33462153, -1.30948358],\n",
              "       [-0.98634915,  0.32056046, -1.44930436, -1.30948358],\n",
              "       [-0.37686461, -1.47907719,  0.04157253, -0.10995664],\n",
              "       [ 1.08589829, -0.12934896,  0.72966956,  0.68972799],\n",
              "       [-1.10824606,  0.09560575, -1.27728011, -1.44276436],\n",
              "       [-0.01117388, -0.57925837,  0.78701097,  1.6226934 ],\n",
              "       [-0.98634915,  0.77046987, -1.27728011, -1.30948358],\n",
              "       [-0.98634915,  0.99542457, -1.21993869, -0.7763605 ],\n",
              "       [ 0.11072303,  0.32056046,  0.61498672,  0.82300877],\n",
              "       [-0.86445224, -1.25412249, -0.41715882, -0.10995664],\n",
              "       [ 1.32969211,  0.32056046,  1.13105949,  1.48941263],\n",
              "       [ 0.23261993, -0.80421307,  0.78701097,  0.55644722],\n",
              "       [ 0.35451684, -1.02916778,  1.07371807,  0.28988568],\n",
              "       [ 2.30486738, -0.12934896,  1.36042516,  1.48941263],\n",
              "       [-0.37686461, -1.25412249,  0.15625537,  0.15660491],\n",
              "       [-1.7177306 , -0.35430366, -1.33462153, -1.30948358],\n",
              "       [-1.83962751, -0.12934896, -1.50664578, -1.44276436],\n",
              "       [ 0.23261993, -1.9289866 ,  0.72966956,  0.42316645],\n",
              "       [ 1.69538284,  0.32056046,  1.30308374,  0.82300877],\n",
              "       [-1.47393679,  0.09560575, -1.27728011, -1.30948358],\n",
              "       [-0.86445224,  0.99542457, -1.33462153, -1.17620281],\n",
              "       [-1.7177306 , -0.12934896, -1.39196294, -1.30948358],\n",
              "       [ 0.59831066, -1.25412249,  0.67232814,  0.42316645],\n",
              "       [ 0.59831066,  0.77046987,  1.07371807,  1.6226934 ],\n",
              "       [-1.47393679,  0.77046987, -1.33462153, -1.17620281],\n",
              "       [ 1.2077952 , -0.12934896,  1.01637665,  1.22285108],\n",
              "       [ 0.59831066,  0.54551516,  1.30308374,  1.75597417],\n",
              "       [-1.35203988,  0.32056046, -1.39196294, -1.30948358],\n",
              "       [ 0.35451684, -0.35430366,  0.5576453 ,  0.28988568],\n",
              "       [ 0.84210448, -0.57925837,  0.50030388,  0.42316645],\n",
              "       [ 0.47641375, -0.57925837,  0.61498672,  0.82300877],\n",
              "       [ 1.45158902,  0.32056046,  0.5576453 ,  0.28988568],\n",
              "       [ 0.72020757,  0.32056046,  0.90169381,  1.48941263],\n",
              "       [-0.86445224,  1.67028869, -1.21993869, -1.30948358],\n",
              "       [ 1.32969211,  0.09560575,  0.95903523,  1.22285108],\n",
              "       [ 0.11072303, -0.12934896,  0.2709382 ,  0.42316645],\n",
              "       [ 0.84210448, -0.12934896,  0.84435239,  1.08957031],\n",
              "       [-0.13307079, -1.02916778, -0.13045173, -0.24323741],\n",
              "       [-0.74255534, -0.80421307,  0.09891395,  0.28988568],\n",
              "       [ 0.35451684, -0.12934896,  0.50030388,  0.28988568],\n",
              "       [-1.5958337 , -1.7040319 , -1.39196294, -1.17620281],\n",
              "       [ 0.96400139, -0.35430366,  0.50030388,  0.15660491],\n",
              "       [-0.37686461, -1.02916778,  0.38562104,  0.02332414],\n",
              "       [-0.62065843,  1.44533399, -1.27728011, -1.30948358],\n",
              "       [-0.2549677 , -0.12934896,  0.21359679,  0.15660491],\n",
              "       [ 1.81727975, -0.35430366,  1.475108  ,  0.82300877],\n",
              "       [ 1.08589829,  0.54551516,  1.13105949,  1.22285108],\n",
              "       [-0.86445224,  1.44533399, -1.27728011, -1.04292204],\n",
              "       [-1.10824606, -1.47907719, -0.24513457, -0.24323741],\n",
              "       [ 1.08589829,  0.54551516,  1.13105949,  1.75597417],\n",
              "       [ 1.69538284, -0.12934896,  1.18840091,  0.55644722],\n",
              "       [-1.10824606,  0.09560575, -1.27728011, -1.44276436],\n",
              "       [ 1.08589829,  0.09560575,  1.07371807,  1.6226934 ],\n",
              "       [-1.10824606, -0.12934896, -1.33462153, -1.30948358],\n",
              "       [ 1.32969211,  0.09560575,  0.67232814,  0.42316645],\n",
              "       [ 1.93917666, -0.57925837,  1.36042516,  0.95628954],\n",
              "       [ 0.59831066, -0.35430366,  1.07371807,  0.82300877],\n",
              "       [-0.13307079, -0.57925837,  0.21359679,  0.15660491],\n",
              "       [ 0.84210448, -0.12934896,  1.01637665,  0.82300877],\n",
              "       [ 0.59831066, -1.7040319 ,  0.38562104,  0.15660491],\n",
              "       [ 0.72020757, -0.35430366,  0.32827962,  0.15660491],\n",
              "       [-0.2549677 , -0.57925837,  0.67232814,  1.08957031],\n",
              "       [ 0.11072303, -0.12934896,  0.78701097,  0.82300877],\n",
              "       [-0.49876152,  0.77046987, -1.16259727, -1.30948358],\n",
              "       [ 0.35451684, -0.57925837,  0.15625537,  0.15660491],\n",
              "       [-1.10824606, -1.25412249,  0.44296246,  0.68972799],\n",
              "       [-0.01117388,  2.1201981 , -1.44930436, -1.30948358],\n",
              "       [-0.01117388, -1.02916778,  0.15625537,  0.02332414],\n",
              "       [ 1.57348593, -0.12934896,  1.24574233,  1.22285108]])"
            ]
          },
          "metadata": {},
          "execution_count": 13
        }
      ]
    },
    {
      "cell_type": "markdown",
      "source": [
        "**Pengujian dengan Menggunakan Stratified K-Fold**"
      ],
      "metadata": {
        "id": "u-90tU-nZq-N"
      }
    },
    {
      "cell_type": "code",
      "source": [
        "n_splits = 5\n",
        "skf = StratifiedKFold(n_splits=n_splits, shuffle=True, random_state=42)\n",
        "\n",
        "knn = KNeighborsClassifier(\n",
        "    n_neighbors=5,\n",
        "    weights='uniform',\n",
        "    metric='euclidean'\n",
        "    )\n",
        "\n",
        "scores = []\n",
        "for fold, (train_index, val_index) in enumerate(skf.split(X_train, y_train), 1):\n",
        "    X_tr = X_train.iloc[train_index]\n",
        "    X_val = X_train.iloc[val_index]\n",
        "    y_tr = y_train.iloc[train_index]\n",
        "    y_val = y_train.iloc[val_index]\n",
        "\n",
        "    scaler = StandardScaler()\n",
        "    X_tr_scaled = scaler.fit_transform(X_tr)\n",
        "    X_val_scaled = scaler.transform(X_val)\n",
        "\n",
        "    knn.fit(X_tr_scaled, y_tr)\n",
        "    y_val_pred = knn.predict(X_val_scaled)\n",
        "    acc_val = accuracy_score(y_val, y_val_pred)\n",
        "    scores.append(acc_val)\n",
        "    print(f\"Fold {fold} - Akurasi validasi: {acc_val:.4f}\")\n",
        "\n",
        "print(f\"Rata-rata akurasi: {np.mean(scores):.4f}\")"
      ],
      "metadata": {
        "colab": {
          "base_uri": "https://localhost:8080/"
        },
        "id": "xSREmw42ZwyP",
        "outputId": "7b38de5c-dc3f-4e54-92dd-570d43a18e6c"
      },
      "execution_count": 14,
      "outputs": [
        {
          "output_type": "stream",
          "name": "stdout",
          "text": [
            "Fold 1 - Akurasi validasi: 0.9583\n",
            "Fold 2 - Akurasi validasi: 0.9583\n",
            "Fold 3 - Akurasi validasi: 0.8333\n",
            "Fold 4 - Akurasi validasi: 0.9583\n",
            "Fold 5 - Akurasi validasi: 1.0000\n",
            "Rata-rata akurasi: 0.9417\n"
          ]
        }
      ]
    },
    {
      "cell_type": "markdown",
      "source": [
        "**Model Building**\n",
        "\n",
        "Selanjutnya yaitu membangun model dengan kNN dari scikit-learn. Disini kita melakukan fit dengan kNN nya dengan data x-train yang sudah di scaling tadi dan juga data y-train. Dan hasil prediksi nya yaitu hasil prediksi dari data x-test yang sudah di split tadi. Untuk parameter nya sendiri menggunakan euclidean, dan k nya yang akan dibandingkan yaitu antara `5` dengan `7`."
      ],
      "metadata": {
        "id": "9C8acWHGTC78"
      }
    },
    {
      "cell_type": "code",
      "source": [
        "def library_knn(k):\n",
        "  knn = KNeighborsClassifier(\n",
        "  n_neighbors=k,\n",
        "  weights='uniform',\n",
        "  metric='euclidean'\n",
        "  )\n",
        "\n",
        "  knn.fit(X_train_scaled, y_train)\n",
        "  pred = knn.predict(X_test_scaled)\n",
        "  return (f\"k-value: {k}, {pred}\")\n",
        "\n",
        "def confusion_matrix_knn(k):\n",
        "  knn = KNeighborsClassifier(\n",
        "  n_neighbors=k,\n",
        "  weights='uniform',\n",
        "  metric='euclidean'\n",
        "  )\n",
        "\n",
        "  knn.fit(X_train_scaled, y_train)\n",
        "  y_pred = knn.predict(X_test_scaled)\n",
        "  cm = confusion_matrix(y_test, y_pred)\n",
        "  disp = ConfusionMatrixDisplay(confusion_matrix=cm, display_labels=le.classes_)\n",
        "  disp.plot(cmap=plt.cm.Blues)\n",
        "  plt.show()"
      ],
      "metadata": {
        "id": "rL7RcCVx2p_j"
      },
      "execution_count": 15,
      "outputs": []
    },
    {
      "cell_type": "code",
      "source": [
        "for k in [5, 7]:\n",
        "  print(library_knn(k))"
      ],
      "metadata": {
        "colab": {
          "base_uri": "https://localhost:8080/"
        },
        "id": "SUCJND8OUrAy",
        "outputId": "4dfcdc04-298f-4b71-8ae6-ef6ac36d0fe2"
      },
      "execution_count": 16,
      "outputs": [
        {
          "output_type": "stream",
          "name": "stdout",
          "text": [
            "k-value: 5, [1 0 2 1 1 0 1 2 1 1 2 0 0 0 0 1 2 1 1 2 0 2 0 2 2 2 2 2 0 0]\n",
            "k-value: 7, [1 0 2 1 1 0 1 2 1 1 2 0 0 0 0 1 2 1 1 2 0 2 0 2 2 2 2 2 0 0]\n"
          ]
        }
      ]
    },
    {
      "cell_type": "markdown",
      "source": [
        "Dihasil prediksi nya antara k-values `5` dengan `7` terlihat tidak terdapat perbedaan hasil prediksi diantara keduanya."
      ],
      "metadata": {
        "id": "MIdxjT77YO3C"
      }
    },
    {
      "cell_type": "code",
      "source": [
        "for k in [5, 7]:\n",
        "  confusion_matrix_knn(k)"
      ],
      "metadata": {
        "colab": {
          "base_uri": "https://localhost:8080/",
          "height": 881
        },
        "id": "sibyDrUJJ79X",
        "outputId": "1441827f-ce89-4414-f707-0e22fa6ccd99"
      },
      "execution_count": 17,
      "outputs": [
        {
          "output_type": "display_data",
          "data": {
            "text/plain": [
              "<Figure size 640x480 with 2 Axes>"
            ],
            "image/png": "[encoded data removed]"
          },
          "metadata": {}
        },
        {
          "output_type": "display_data",
          "data": {
            "text/plain": [
              "<Figure size 640x480 with 2 Axes>"
            ],
            "image/png": "[encoded data removed]"
          },
          "metadata": {}
        }
      ]
    },
    {
      "cell_type": "markdown",
      "source": [
        "Dan di confusion matrix nya dengan y-actual yaitu y-test yang sudah di split tadi, bisa dibilang hasil prediksi kedua model nya sudah 100% benar."
      ],
      "metadata": {
        "id": "FAhPmjg1YWxJ"
      }
    },
    {
      "cell_type": "markdown",
      "source": [
        "### **Dengan kNN from Scratch**"
      ],
      "metadata": {
        "id": "Xun3daz8J0iz"
      }
    },
    {
      "cell_type": "markdown",
      "source": [
        "Untuk yang from scratch ini alurnya hampir sama dengan yang tadi, tapi mungkin saat di eval nya untuk yang from scratch hanya mengukur accuracy nya dan menggunakan StratifiedKFold untuk menguji model nya ke beberapa sampel di dataset (di kasus ini saya menggunakan 5 sample). Sekian ≽^•⩊•^≼"
      ],
      "metadata": {
        "id": "nfq6hBNk5vJS"
      }
    },
    {
      "cell_type": "code",
      "source": [
        "from random import seed, randrange\n",
        "from csv import reader\n",
        "from math import sqrt"
      ],
      "metadata": {
        "id": "HCwDK-iyJ3yu"
      },
      "execution_count": 18,
      "outputs": []
    },
    {
      "cell_type": "code",
      "source": [
        "def load_csv(filename):\n",
        "    dataset = []\n",
        "    with open(filename, 'r') as file:\n",
        "        csv_reader = reader(file)\n",
        "        next(csv_reader, None)\n",
        "        for row in csv_reader:\n",
        "            if not row:\n",
        "                continue\n",
        "            dataset.append(row[1:])    # drop 'Id' column\n",
        "    return dataset\n",
        "\n",
        "def str_column_to_float(dataset, column):\n",
        "    for row in dataset:\n",
        "        row[column] = float(row[column].strip())\n",
        "\n",
        "def str_column_to_int(dataset, column):\n",
        "    class_values = [row[column] for row in dataset]\n",
        "    unique = sorted(set(class_values))   # sorted -> mapping stabil\n",
        "    lookup = {v:i for i, v in enumerate(unique)}\n",
        "    for row in dataset:\n",
        "        row[column] = lookup[row[column]]\n",
        "    return lookup"
      ],
      "metadata": {
        "id": "4GIWvcORJKok"
      },
      "execution_count": 19,
      "outputs": []
    },
    {
      "cell_type": "code",
      "source": [
        "seed(42)\n",
        "filename = '/content/Iris.csv'\n",
        "dataset = load_csv(filename)\n",
        "\n",
        "for i in range(len(dataset[0]) - 1):\n",
        "    str_column_to_float(dataset, i)\n",
        "\n",
        "label_map = str_column_to_int(dataset, len(dataset[0]) - 1)\n",
        "print(\"Label map:\", label_map)"
      ],
      "metadata": {
        "colab": {
          "base_uri": "https://localhost:8080/"
        },
        "id": "9a8SLUnRJsSR",
        "outputId": "e538e8c1-78f0-4f2b-cea4-42d9515a6467"
      },
      "execution_count": 20,
      "outputs": [
        {
          "output_type": "stream",
          "name": "stdout",
          "text": [
            "Label map: {'Iris-setosa': 0, 'Iris-versicolor': 1, 'Iris-virginica': 2}\n"
          ]
        }
      ]
    },
    {
      "cell_type": "code",
      "source": [
        "def dataset_minmax(dataset):\n",
        "    minmax = []\n",
        "    for i in range(len(dataset[0])):\n",
        "        col_values = [row[i] for row in dataset]\n",
        "        value_min = min(col_values)\n",
        "        value_max = max(col_values)\n",
        "        minmax.append([value_min, value_max])\n",
        "    return minmax\n",
        "\n",
        "def normalize_dataset(dataset, minmax):\n",
        "    for row in dataset:\n",
        "        for i in range(len(row)):\n",
        "            row[i] = (row[i] - minmax[i][0]) / (minmax[i][1] - minmax[i][0])"
      ],
      "metadata": {
        "id": "S1dl4Rc8JP6m"
      },
      "execution_count": 21,
      "outputs": []
    },
    {
      "cell_type": "code",
      "source": [
        "def cross_validation_split(dataset, n_folds):\n",
        "    dataset_split, dataset_copy = [], list(dataset)\n",
        "    fold_size = int(len(dataset) / n_folds)\n",
        "    for _ in range(n_folds):\n",
        "        fold = []\n",
        "        while len(fold) < fold_size and dataset_copy:\n",
        "            index = randrange(len(dataset_copy))\n",
        "            fold.append(dataset_copy.pop(index))\n",
        "        dataset_split.append(fold)\n",
        "    return dataset_split\n",
        "\n",
        "def accuracy_metric(actual, predicted):\n",
        "    correct = sum(1 for a, p in zip(actual, predicted) if a == p)\n",
        "    return correct / float(len(actual)) * 100.0\n",
        "\n",
        "def evaluate_algorithm(dataset, algorithm, n_folds, *args):\n",
        "    folds = cross_validation_split(dataset, n_folds)\n",
        "    scores = []\n",
        "    for fold in folds:\n",
        "        train_set = sum([f for f in folds if f is not fold], [])\n",
        "        test_set = []\n",
        "        for row in fold:\n",
        "            row_copy = list(row)\n",
        "            test_set.append(row_copy)\n",
        "            row_copy[-1] = None\n",
        "        predicted = algorithm(train_set, test_set, *args)\n",
        "        actual = [row[-1] for row in fold]\n",
        "        scores.append(accuracy_metric(actual, predicted))\n",
        "    return scores\n",
        "\n",
        "def euclidean_distance(row1, row2):\n",
        "    distance = 0.0\n",
        "    for i in range(len(row1)-1):\n",
        "        distance += (row1[i] - row2[i])**2\n",
        "    return sqrt(distance)\n",
        "\n",
        "def get_neighbors(train, test_row, num_neighbors):\n",
        "    distances = [(train_row, euclidean_distance(test_row, train_row)) for train_row in train]\n",
        "    distances.sort(key=lambda x: x[1])\n",
        "    return [distances[i][0] for i in range(num_neighbors)]\n",
        "\n",
        "def predict_classification(train, test_row, num_neighbors):\n",
        "    neighbors = get_neighbors(train, test_row, num_neighbors)\n",
        "    output_values = [row[-1] for row in neighbors]\n",
        "    return max(set(output_values), key=output_values.count)\n",
        "\n",
        "def k_nearest_neighbors(train, test, num_neighbors):\n",
        "    return [predict_classification(train, row, num_neighbors) for row in test]"
      ],
      "metadata": {
        "id": "q3IxOogRJjRD"
      },
      "execution_count": 22,
      "outputs": []
    },
    {
      "cell_type": "code",
      "source": [
        "# evaluasi\n",
        "n_folds = 5\n",
        "num_neighbors = 5\n",
        "scores = evaluate_algorithm(dataset, k_nearest_neighbors, n_folds, num_neighbors)\n",
        "print('Scores:', scores)\n",
        "print('Mean Accuracy: %.3f%%' % (sum(scores)/float(len(scores))))"
      ],
      "metadata": {
        "colab": {
          "base_uri": "https://localhost:8080/"
        },
        "id": "BRu-vgRBJkGE",
        "outputId": "fb40967e-8b58-4dd7-b2ba-48f828f27ede"
      },
      "execution_count": 23,
      "outputs": [
        {
          "output_type": "stream",
          "name": "stdout",
          "text": [
            "Scores: [93.33333333333333, 100.0, 100.0, 93.33333333333333, 93.33333333333333]\n",
            "Mean Accuracy: 96.000%\n"
          ]
        }
      ]
    }
  ]
}