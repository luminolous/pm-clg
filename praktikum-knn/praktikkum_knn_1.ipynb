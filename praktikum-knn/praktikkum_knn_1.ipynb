{
  "nbformat": 4,
  "nbformat_minor": 0,
  "metadata": {
    "colab": {
      "provenance": []
    },
    "kernelspec": {
      "name": "python3",
      "display_name": "Python 3"
    },
    "language_info": {
      "name": "python"
    }
  },
  "cells": [
    {
      "cell_type": "code",
      "execution_count": 86,
      "metadata": {
        "id": "sedL2LgwSm5u"
      },
      "outputs": [],
      "source": [
        "from sklearn.neighbors import KNeighborsClassifier"
      ]
    },
    {
      "cell_type": "code",
      "source": [
        "X_train = [[-1, 1], [0, 1], [0, 2], [1, -1], [1, 0], [1, 2], [2, 2], [2, 3]]\n",
        "y_train = ['-', '+', '-', '-', '+', '+', '-', '+']\n",
        "X_test = [[1, 1]]"
      ],
      "metadata": {
        "id": "Moc8c8ogjqZu"
      },
      "execution_count": 87,
      "outputs": []
    },
    {
      "cell_type": "code",
      "source": [
        "k = 3\n",
        "\n",
        "knn = KNeighborsClassifier(\n",
        "    n_neighbors=k,      # Jumlah tetangga\n",
        "    weights='uniform',  # Pembobotan jarak\n",
        "    metric='euclidean', # Metrik jarak\n",
        ")\n",
        "\n",
        "knn.fit(X_train, y_train)\n",
        "pred = knn.predict(X_test)\n",
        "print(pred)"
      ],
      "metadata": {
        "colab": {
          "base_uri": "https://localhost:8080/"
        },
        "id": "c67Wyc4Lkb-p",
        "outputId": "3a46dfa1-349b-4559-c5bc-819073b83b93"
      },
      "execution_count": 92,
      "outputs": [
        {
          "output_type": "stream",
          "name": "stdout",
          "text": [
            "['+']\n"
          ]
        }
      ]
    },
    {
      "cell_type": "code",
      "source": [
        "k = 7\n",
        "\n",
        "knn = KNeighborsClassifier(\n",
        "    n_neighbors=k,      # Jumlah tetangga\n",
        "    weights='uniform',  # Pembobotan jarak\n",
        "    metric='euclidean', # Metrik jarak\n",
        ")\n",
        "\n",
        "knn.fit(X_train, y_train)\n",
        "pred = knn.predict(X_test)\n",
        "print(pred)"
      ],
      "metadata": {
        "colab": {
          "base_uri": "https://localhost:8080/"
        },
        "id": "TvsGCKkFcO_W",
        "outputId": "41954740-9714-498c-8bed-c834ec71b1c7"
      },
      "execution_count": 93,
      "outputs": [
        {
          "output_type": "stream",
          "name": "stdout",
          "text": [
            "['-']\n"
          ]
        }
      ]
    }
  ]
}